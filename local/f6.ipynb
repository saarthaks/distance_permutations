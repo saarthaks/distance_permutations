{
 "cells": [
  {
   "cell_type": "code",
   "execution_count": 1,
   "metadata": {},
   "outputs": [],
   "source": [
    "import numpy as np\n",
    "import matplotlib.pyplot as plt\n",
    "from sklearn.neighbors import NearestNeighbors\n"
   ]
  },
  {
   "cell_type": "code",
   "execution_count": 5,
   "metadata": {},
   "outputs": [],
   "source": [
    "'''\n",
    "Computes the id_estimate using all the dataset points for local estimates\n",
    "and then we average across all the estimates ...\n",
    "distances: distance of each anchor to their k nearest neighbors\n",
    "dataset_size: number of anchor_points from dataset to be used for the estimation\n",
    "unbiased_estimation: whether or not to make the MLE estimator asymptotically unbiased\n",
    "'''\n",
    "def id_estimator(k_value, dataset_size, distances, unbiased_estimation):\n",
    "    # print(dataset.shape[0] == distances.shape[0])\n",
    "    estimates = []\n",
    "    for i in range(dataset_size):\n",
    "        ### access the distances for each anchor...\n",
    "        k_distances = np.array(distances[i])\n",
    "\n",
    "        ### check if any distances are 0, if so naively just ignore this local estimate because it should've already been accounted for\n",
    "        if np.all(k_distances[1:-1]) == False:\n",
    "            continue\n",
    "\n",
    "        ### ignore the 1st closest neighbor, duplicate the last (kth neighbor) and div\n",
    "        k_distances_normalized = np.array((k_value - 1)*[k_distances[-1]])/k_distances[1:-1] # Tk(x)/Tj(x)\n",
    "\n",
    "        # apply the log function ...\n",
    "        k_distances_normalized_log = np.log(k_distances_normalized) # take log of k_value - 1 values\n",
    "\n",
    "        '''\n",
    "        In original paper by Levina and Bickel\n",
    "        Note that we omit the last (zero) term in the sum in (7). One could divide by\n",
    "        k − 2 rather than k − 1 to make the estimator asymptotically unbiased, as we show\n",
    "        below. Also note that the MLE of θ can be used to obtain an instant estimate of\n",
    "        the entropy of f, which was also provided by the method used in [15].\n",
    "        '''\n",
    "        # average the inverse of the estimators ...\n",
    "        # we divide by k_value - 2 instead to make the MLE estimator asymptotically unbiased\n",
    "        if unbiased_estimation: \n",
    "            k_distance_id_estimate = (1/(k_value - 2)) * np.sum(k_distances_normalized_log, axis=-1)\n",
    "        else: # biased regards the kth value in the averaging, hence the k + 1\n",
    "            k_distance_id_estimate = (1/(k_value - 1)) * np.sum(k_distances_normalized_log, axis=-1)\n",
    "\n",
    "        ### store into the estimates array\n",
    "        estimates.append(k_distance_id_estimate) \n",
    "\n",
    "    ### Average the estimates together and return\n",
    "    estimates_avg_id = (1/dataset_size) * np.sum( np.array(estimates) )\n",
    "    id_estimated = 1/estimates_avg_id\n",
    "\n",
    "    # return the final estimated id value...\n",
    "    return id_estimated\n",
    "\n",
    "'''\n",
    "The function below returns the intrinsic dimensionality estimation\n",
    "across different values of k (kNN) using MLE estimation ...\n",
    "dataset: combines train and test datasets MNIST, CIFAR-*, etc.\n",
    "'''\n",
    "def id_mle_estimator(dataset, k_list=[2,3,5,10,20], unbiased_estimation=False):\n",
    "    # Create a map of key (k in kNN) to values (estimates using different anchor points)\n",
    "    id_estimates = { val:[] for val in k_list }\n",
    "    dataset_size = dataset.shape[0] # get the size of the dataset...\n",
    "\n",
    "    # perform the classification and computation only once for maximum k\n",
    "    classifier = NearestNeighbors(n_neighbors=max(k_list)+1, algorithm='ball_tree') #ball_tree, brute, kd_tree\n",
    "    classifier.fit(dataset)\n",
    "\n",
    "    # We use the entire dataset to find good local estimates (for maximum K value) \n",
    "    # [assumes data exists in local neighborhoods] (locally uniform distribution)\n",
    "    distances, indices = classifier.kneighbors(dataset)\n",
    "\n",
    "    # For each k val from 1 <-> num_k, pass the distances up to that k+1\n",
    "    for k in k_list:\n",
    "      # calling scheme: k_id_mle_estimator(k, dataset, anchor_points, anchors_sampling_count, testing=False)\n",
    "        id_estimates[k] = id_estimator(k, dataset_size, distances[:, :k+1], unbiased_estimation)\n",
    "\n",
    "    # return the object containing the estimates...\n",
    "    return id_estimates"
   ]
  },
  {
   "cell_type": "code",
   "execution_count": 28,
   "metadata": {},
   "outputs": [],
   "source": [
    "n = 4000\n",
    "d = 32\n",
    "D = 512\n",
    "means = 0.5 + 0.09*np.random.randn(d)\n",
    "Cov = 0.01*np.eye(d)\n",
    "data_low = np.random.multivariate_normal(means, Cov, size=n)\n",
    "L = (np.random.randn(d, D)+1)/d\n",
    "data_high = data_low @ L\n",
    "\n",
    "# piv = [16,32,48,64]\n",
    "# piv = [32]\n",
    "# anchor_idx = np.random.choice(n, size=piv[0])\n",
    "# anchors = np.array([data_high[i] for i in anchor_idx])\n",
    "# perms = np.zeros((n, piv[0]))\n",
    "# for i in range(n):\n",
    "#     perms[i] = np.argsort([np.linalg.norm(data_high[i]-a) for a in anchors])\n",
    "\n",
    "# query = generate_query()\n",
    "# dperm = distance_permutation(query, anchors)"
   ]
  },
  {
   "cell_type": "code",
   "execution_count": 11,
   "metadata": {},
   "outputs": [
    {
     "data": {
      "text/plain": [
       "(4000, 512)"
      ]
     },
     "execution_count": 11,
     "metadata": {},
     "output_type": "execute_result"
    }
   ],
   "source": [
    "data_high.shape"
   ]
  },
  {
   "cell_type": "code",
   "execution_count": 12,
   "metadata": {},
   "outputs": [],
   "source": [
    "results_unbiased = id_mle_estimator(data_high, k_list=list(range(3,30)), unbiased_estimation=True) # (used by Philip et. al.)"
   ]
  },
  {
   "cell_type": "code",
   "execution_count": 13,
   "metadata": {},
   "outputs": [
    {
     "data": {
      "text/plain": [
       "Text(0.5,1,'Unbiased local ID estimation')"
      ]
     },
     "execution_count": 13,
     "metadata": {},
     "output_type": "execute_result"
    },
    {
     "data": {
      "image/png": "[encoded data removed]",
      "text/plain": [
       "<matplotlib.figure.Figure at 0x125de98d0>"
      ]
     },
     "metadata": {},
     "output_type": "display_data"
    }
   ],
   "source": [
    "x_domain = list(results_unbiased.keys())\n",
    "plt.plot(x_domain, list(results_unbiased.values()))\n",
    "plt.xlabel(\"k (kNN)\")\n",
    "plt.ylabel(\"ID estimates\")\n",
    "plt.title(\"Unbiased local ID estimation\")\n",
    "# plt.legend(framealpha=1, frameon=True)"
   ]
  },
  {
   "cell_type": "code",
   "execution_count": 23,
   "metadata": {},
   "outputs": [],
   "source": [
    "def generate_query(means, Cov, L):\n",
    "    return np.random.multivariate_normal(means, Cov, size=1) @ L\n",
    "\n",
    "def distance_permutation(q, anchs):\n",
    "    return np.argsort([np.linalg.norm(q-a) for a in anchs])"
   ]
  },
  {
   "cell_type": "code",
   "execution_count": 31,
   "metadata": {},
   "outputs": [],
   "source": [
    "piv = [8,16,32,48,64]\n",
    "\n",
    "query = generate_query(means, Cov, L)\n",
    "sort_idx = np.argsort([np.linalg.norm(u-query) for u in data_high])\n",
    "k = 20\n",
    "found = np.zeros((len(piv), n))\n",
    "for j, num_pivots in enumerate(piv):\n",
    "    anchor_idx = np.random.choice(n, size=num_pivots)\n",
    "    anchors = np.array([data_high[i] for i in anchor_idx])\n",
    "    perms = np.zeros((n, num_pivots))\n",
    "    for i in range(n):\n",
    "        perms[i] = np.argsort([np.linalg.norm(data_high[i]-a) for a in anchors])\n",
    "\n",
    "    dperm = distance_permutation(query, anchors)\n",
    "    sort_perm_idx = np.argsort([np.linalg.norm(np.argsort(p)-np.argsort(dperm)) for p in perms])\n",
    "    \n",
    "    for c, idx in enumerate(sort_perm_idx):\n",
    "        if idx in sort_idx[:k]:\n",
    "            found[j,c] = found[j,c-1] + 1\n",
    "        else:\n",
    "            found[j,c] = found[j,c-1]"
   ]
  },
  {
   "cell_type": "code",
   "execution_count": 33,
   "metadata": {},
   "outputs": [
    {
     "data": {
      "text/plain": [
       "<matplotlib.legend.Legend at 0x1260b2e10>"
      ]
     },
     "execution_count": 33,
     "metadata": {},
     "output_type": "execute_result"
    },
    {
     "data": {
      "image/png": "[encoded data removed]",
      "text/plain": [
       "<matplotlib.figure.Figure at 0x126584ef0>"
      ]
     },
     "metadata": {},
     "output_type": "display_data"
    }
   ],
   "source": [
    "for i in range(found.shape[0]):\n",
    "    plt.plot(100*np.arange(n)/n, found[i]/k*100, label='# Pivots = %s' % piv[i])\n",
    "\n",
    "plt.xlim([0, 20])\n",
    "plt.legend()"
   ]
  },
  {
   "cell_type": "code",
   "execution_count": 21,
   "metadata": {},
   "outputs": [
    {
     "data": {
      "text/plain": [
       "(4000,)"
      ]
     },
     "execution_count": 21,
     "metadata": {},
     "output_type": "execute_result"
    }
   ],
   "source": [
    "sort_idx.shape"
   ]
  },
  {
   "cell_type": "code",
   "execution_count": 34,
   "metadata": {},
   "outputs": [],
   "source": [
    "trials = 20\n",
    "n = 4000\n",
    "d = 32\n",
    "D = 512\n",
    "means = 0.5 + 0.09*np.random.randn(d)\n",
    "Cov = 0.01*np.eye(d)\n",
    "data_low = np.random.multivariate_normal(means, Cov, size=n)\n",
    "L = (np.random.randn(d, D)+1)/d\n",
    "data_high = data_low @ L # shape = (n, D)\n",
    "\n",
    "queries = np.array([generate_query(means, Cov, L) for _ in range(trials)]) # shape = (trials, D)\n",
    "sort_idxs = np.array([np.argsort([np.linalg.norm(u-query) for u in data_high]) for query in queries]) # shape = (trials, n)\n",
    "\n",
    "pivots = [8,16,32,48,64]\n",
    "k = 200\n",
    "all_found = np.zeros((trials, len(pivots), n))\n",
    "for t in range(trials):\n",
    "    query = queries[t]\n",
    "    found = np.zeros((len(piv), n))\n",
    "    sort_idx = sort_idxs[t]\n",
    "    for j, num_pivots in enumerate(pivots):\n",
    "        anchor_idx = np.random.choice(n, size=num_pivots)\n",
    "        anchors = np.array([data_high[i] for i in anchor_idx])\n",
    "        perms = np.zeros((n, num_pivots))\n",
    "        for i in range(n):\n",
    "            perms[i] = np.argsort([np.linalg.norm(data_high[i]-a) for a in anchors])\n",
    "\n",
    "        dperm = distance_permutation(query, anchors)\n",
    "        sort_perm_idx = np.argsort([np.linalg.norm(np.argsort(p)-np.argsort(dperm)) for p in perms])\n",
    "\n",
    "        for c, idx in enumerate(sort_perm_idx):\n",
    "            if idx in sort_idx[:k]:\n",
    "                all_found[t,j,c] = all_found[t,j,c-1] + 1\n",
    "            else:\n",
    "                all_found[t,j,c] = all_found[t,j,c-1]\n",
    "\n"
   ]
  },
  {
   "cell_type": "code",
   "execution_count": 47,
   "metadata": {},
   "outputs": [
    {
     "data": {
      "text/plain": [
       "<matplotlib.legend.Legend at 0x12a785ba8>"
      ]
     },
     "execution_count": 47,
     "metadata": {},
     "output_type": "execute_result"
    },
    {
     "data": {
      "image/png": "[encoded data removed]",
      "text/plain": [
       "<matplotlib.figure.Figure at 0x1279ca1d0>"
      ]
     },
     "metadata": {},
     "output_type": "display_data"
    }
   ],
   "source": [
    "f2 = all_found.mean(axis=0)\n",
    "for i in range(f2.shape[0]):\n",
    "    plt.plot(100*np.arange(n)/n, f2[i]/k*100, label='# Pivots = %s' % piv[i])\n",
    "\n",
    "plt.axvline(5, linestyle='--', color='k')\n",
    "plt.xlim([0, 40])\n",
    "plt.xlabel('Percent of Dataset Considered')\n",
    "plt.ylabel('Percent of True k = 20 NN Found')\n",
    "plt.legend()"
   ]
  },
  {
   "cell_type": "code",
   "execution_count": 46,
   "metadata": {},
   "outputs": [
    {
     "data": {
      "text/plain": [
       "array([0.9 , 1.9 , 3.15, 5.3 , 5.4 ])"
      ]
     },
     "execution_count": 46,
     "metadata": {},
     "output_type": "execute_result"
    }
   ],
   "source": [
    "f2[:, 20]"
   ]
  },
  {
   "cell_type": "code",
   "execution_count": null,
   "metadata": {},
   "outputs": [],
   "source": [
    "import pandas as pd\n",
    "import seaborn as sns\n",
    "\n",
    "pivs = [pivots]\n",
    "df = pd.DataFrame(all_found[0,0], )"
   ]
  }
 ],
 "metadata": {
  "kernelspec": {
   "display_name": "Python 3",
   "language": "python",
   "name": "python3"
  },
  "language_info": {
   "codemirror_mode": {
    "name": "ipython",
    "version": 3
   },
   "file_extension": ".py",
   "mimetype": "text/x-python",
   "name": "python",
   "nbconvert_exporter": "python",
   "pygments_lexer": "ipython3",
   "version": "3.6.6"
  }
 },
 "nbformat": 4,
 "nbformat_minor": 2
}
