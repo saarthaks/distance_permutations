{
 "cells": [
  {
   "cell_type": "code",
   "execution_count": 1,
   "metadata": {},
   "outputs": [],
   "source": [
    "import numpy as np\n",
    "import matplotlib.pyplot as plt\n"
   ]
  },
  {
   "cell_type": "code",
   "execution_count": 2,
   "metadata": {},
   "outputs": [],
   "source": [
    "def generate_query():\n",
    "    return np.random.multivariate_normal(means, Cov, size=1) @ L\n",
    "\n",
    "def distance_permutation(q, anchs):\n",
    "    return np.argsort([np.linalg.norm(q-a) for a in anchs])\n"
   ]
  },
  {
   "cell_type": "code",
   "execution_count": 45,
   "metadata": {},
   "outputs": [],
   "source": [
    "n = 1000\n",
    "d = 32\n",
    "D = 1024\n",
    "means = 0.5 + 0.09*np.random.randn(d)\n",
    "Cov = 0.01*np.eye(d)\n",
    "data_low = np.random.multivariate_normal(means, Cov, size=n)\n",
    "L = (np.random.randn(d, D)+1)/d\n",
    "data_high = data_low @ L\n",
    "\n",
    "piv = [16,32,48,64]\n",
    "piv = [32]\n",
    "anchor_idx = np.random.choice(n, size=piv[0])\n",
    "anchors = np.array([data_high[i] for i in anchor_idx])\n",
    "perms = np.zeros((n, piv[0]))\n",
    "for i in range(n):\n",
    "    perms[i] = np.argsort([np.linalg.norm(data_high[i]-a) for a in anchors])\n",
    "\n",
    "query = generate_query()\n",
    "dperm = distance_permutation(query, anchors)\n"
   ]
  },
  {
   "cell_type": "code",
   "execution_count": 46,
   "metadata": {},
   "outputs": [],
   "source": [
    "sort_idx = np.argsort([np.linalg.norm(u-query) for u in data_high])\n",
    "sort_perm_idx = np.argsort([np.linalg.norm(np.argsort(p)-np.argsort(dperm)) for p in perms])\n",
    "\n",
    "# rho = np.arange(piv[0])\n",
    "# dperm_inv = np.argsort(dperm)\n",
    "# sort_perm_idx2 = np.argsort([np.linalg.norm(rho-p[dperm_inv]) for p in perms])"
   ]
  },
  {
   "cell_type": "code",
   "execution_count": 63,
   "metadata": {},
   "outputs": [],
   "source": [
    "k = 10\n",
    "found = np.zeros_like(sort_perm_idx)\n",
    "for c, idx in enumerate(sort_perm_idx):\n",
    "    if idx in sort_idx[:k]:\n",
    "        found[c] = found[c-1] + 1\n",
    "    else:\n",
    "        found[c] = found[c-1]\n"
   ]
  },
  {
   "cell_type": "code",
   "execution_count": 65,
   "metadata": {},
   "outputs": [
    {
     "data": {
      "text/plain": [
       "[<matplotlib.lines.Line2D at 0x111a52940>]"
      ]
     },
     "execution_count": 65,
     "metadata": {},
     "output_type": "execute_result"
    },
    {
     "data": {
      "image/png": "[encoded data removed]",
      "text/plain": [
       "<matplotlib.figure.Figure at 0x111c2c630>"
      ]
     },
     "metadata": {},
     "output_type": "display_data"
    }
   ],
   "source": [
    "plt.plot(100*np.arange(n)/n, found/k*100)"
   ]
  },
  {
   "cell_type": "code",
   "execution_count": 66,
   "metadata": {},
   "outputs": [],
   "source": [
    "dists1 = [np.linalg.norm(query - data_high[si]) for si in sort_idx[:100]]\n",
    "dists2 = [np.linalg.norm(query - data_high[si]) for si in sort_perm_idx[:100]]"
   ]
  },
  {
   "cell_type": "code",
   "execution_count": null,
   "metadata": {},
   "outputs": [
    {
     "data": {
      "text/plain": [
       "[<matplotlib.lines.Line2D at 0x111db9b38>]"
      ]
     },
     "execution_count": 67,
     "metadata": {},
     "output_type": "execute_result"
    }
   ],
   "source": [
    "plt.plot(dists1)\n",
    "plt.plot(dists2)"
   ]
  },
  {
   "cell_type": "code",
   "execution_count": 38,
   "metadata": {},
   "outputs": [
    {
     "data": {
      "text/plain": [
       "0.4949937511937503"
      ]
     },
     "execution_count": 38,
     "metadata": {},
     "output_type": "execute_result"
    }
   ],
   "source": [
    "dists1[0]"
   ]
  },
  {
   "cell_type": "code",
   "execution_count": 32,
   "metadata": {},
   "outputs": [
    {
     "data": {
      "text/plain": [
       "[<matplotlib.lines.Line2D at 0x11079bf98>]"
      ]
     },
     "execution_count": 32,
     "metadata": {},
     "output_type": "execute_result"
    },
    {
     "data": {
      "image/png": "[encoded data removed]",
      "text/plain": [
       "<matplotlib.figure.Figure at 0x1105bc940>"
      ]
     },
     "metadata": {},
     "output_type": "display_data"
    }
   ],
   "source": [
    "dists2 = [np.linalg.norm(query - anch) for anch in anchors[dperm]]\n",
    "plt.plot(dists2)"
   ]
  },
  {
   "cell_type": "code",
   "execution_count": 39,
   "metadata": {},
   "outputs": [
    {
     "data": {
      "text/plain": [
       "0.4949937511937503"
      ]
     },
     "execution_count": 39,
     "metadata": {},
     "output_type": "execute_result"
    }
   ],
   "source": [
    "dists2[0]"
   ]
  },
  {
   "cell_type": "code",
   "execution_count": null,
   "metadata": {},
   "outputs": [],
   "source": []
  }
 ],
 "metadata": {
  "kernelspec": {
   "display_name": "Python 3",
   "language": "python",
   "name": "python3"
  },
  "language_info": {
   "codemirror_mode": {
    "name": "ipython",
    "version": 3
   },
   "file_extension": ".py",
   "mimetype": "text/x-python",
   "name": "python",
   "nbconvert_exporter": "python",
   "pygments_lexer": "ipython3",
   "version": "3.6.6"
  }
 },
 "nbformat": 4,
 "nbformat_minor": 2
}
